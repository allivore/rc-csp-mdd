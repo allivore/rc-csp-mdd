{
 "cells": [
  {
   "cell_type": "code",
   "execution_count": 1,
   "id": "7aa054d6",
   "metadata": {},
   "outputs": [],
   "source": [
    "import os\n",
    "import numpy as np\n",
    "import matplotlib.pyplot as plt\n",
    "from pyriemann.spatialfilters import CSP\n",
    "from sklearn.discriminant_analysis import LinearDiscriminantAnalysis\n",
    "from sklearn.model_selection import StratifiedShuffleSplit\n",
    "from sklearn.metrics import confusion_matrix\n",
    "from IPython.display import clear_output\n",
    "from scipy.stats import zscore\n",
    "from tqdm import tqdm\n",
    "from rcnet import rc_activations\n",
    "\n",
    "rng = np.random.default_rng(0)"
   ]
  },
  {
   "cell_type": "code",
   "execution_count": 2,
   "id": "4986290e",
   "metadata": {},
   "outputs": [
    {
     "name": "stderr",
     "output_type": "stream",
     "text": [
      "HC: 100%|██████████| 97/97 [00:03<00:00, 29.21it/s]\n",
      "MDD: 100%|██████████| 66/66 [00:02<00:00, 29.15it/s]\n",
      "CV: 100%|██████████| 10/10 [00:02<00:00,  4.92it/s]\n"
     ]
    }
   ],
   "source": [
    "nsubs = 163\n",
    "nsamples = 191\n",
    "nchannels = 139\n",
    "\n",
    "dynamics_length = 20\n",
    "approx_reservoir_size = nchannels*2\n",
    "worker_id = 0\n",
    "w_in_init = \"first_word_full_cleaning\"\n",
    "normalization = \"zscore\"\n",
    "nfilters = 5\n",
    "nsplits = 10\n",
    "\n",
    "\n",
    "leak = 0.9854109308796132\n",
    "degree = 19\n",
    "radius = 0.28380506555016005\n",
    "\n",
    "activations = np.zeros([nsubs, approx_reservoir_size, nsamples-dynamics_length-1])\n",
    "for i in tqdm(range(1, 98), desc=\"HC\"):\n",
    "    name = 'filtered_data/HC_'+str(i)+'_det.dat'\n",
    "    signal = np.loadtxt(name)\n",
    "    activation = rc_activations(\n",
    "        signal,\n",
    "        dynamics_length,\n",
    "        approx_reservoir_size,\n",
    "        degree,\n",
    "        radius,\n",
    "        worker_id,\n",
    "        w_in_init,\n",
    "        normalization,\n",
    "        leak\n",
    "    )\n",
    "    activations[i-1] = activation.T\n",
    "for i in tqdm(range(98, 164), desc=\"MDD\"):\n",
    "    name = 'filtered_data/mdd_'+str(i)+'_det.dat'\n",
    "    signal = np.loadtxt(name)\n",
    "    activation = rc_activations(\n",
    "        signal,\n",
    "        dynamics_length,\n",
    "        approx_reservoir_size,\n",
    "        degree,\n",
    "        radius,\n",
    "        worker_id,\n",
    "        w_in_init,\n",
    "        normalization,\n",
    "        leak\n",
    "    )\n",
    "    activations[i-1] = activation.T\n",
    "\n",
    "covs = np.zeros([nsubs, approx_reservoir_size, approx_reservoir_size])\n",
    "labels = np.zeros(nsubs)\n",
    "for i in range(1, 98):\n",
    "    activation = activations[i-1]\n",
    "    covs[i-1] = np.cov(activation)\n",
    "    labels[i-1] = 0\n",
    "for i in range(98, 164):\n",
    "    activation = activations[i-1]\n",
    "    covs[i-1] = np.cov(activation)\n",
    "    labels[i-1] = 1\n",
    "\n",
    "confusion_matrices = np.zeros([nsplits, 2, 2])\n",
    "split_i = 0\n",
    "model = CSP(nfilter=nfilters, metric=\"euclid\", log=True)\n",
    "crossval = StratifiedShuffleSplit(n_splits=nsplits, test_size=0.2, random_state=0)\n",
    "for train_index, test_index in tqdm(crossval.split(X=np.zeros(nsubs), y=labels), desc=\"CV\", total=nsplits):\n",
    "    model = model.fit(X=covs[train_index,:,:], y=labels[train_index])\n",
    "    filtered_signals = model.transform(covs)\n",
    "    lda = LinearDiscriminantAnalysis(solver=\"svd\", store_covariance=True)\n",
    "    clf = lda.fit(filtered_signals[train_index, :nfilters], labels[train_index])\n",
    "    truths = labels[test_index]\n",
    "    predictions = clf.predict(filtered_signals[test_index])\n",
    "    confusion_matrices[split_i] = confusion_matrix(y_true=truths, y_pred=predictions)\n",
    "    split_i += 1"
   ]
  },
  {
   "cell_type": "code",
   "execution_count": 3,
   "id": "dd554e64",
   "metadata": {},
   "outputs": [],
   "source": [
    "tn = confusion_matrices[:, 0, 0]\n",
    "fn = confusion_matrices[:, 1, 0]\n",
    "tp = confusion_matrices[:, 1, 1]\n",
    "fp = confusion_matrices[:, 0, 1]\n",
    "accuracy = (tp+tn) / (tp+tn+fp+fn)\n",
    "recall = tp / (tp+fn)\n",
    "precision = tp / (tp+fp)\n",
    "f1 = 2 * (\n",
    "    (precision*recall) / (precision+recall)\n",
    ")"
   ]
  },
  {
   "cell_type": "code",
   "execution_count": 4,
   "id": "bdd5b89d",
   "metadata": {},
   "outputs": [
    {
     "name": "stdout",
     "output_type": "stream",
     "text": [
      "Accuracy: 0.73 ± 0.05\n",
      "Recall: 0.62 ± 0.14\n",
      "Precision: 0.68 ± 0.08\n",
      "F1-score: 0.64 ± 0.09\n"
     ]
    }
   ],
   "source": [
    "print(f\"Accuracy: {np.mean(accuracy):.2f} ± {np.std(accuracy):.2f}\")\n",
    "print(f\"Recall: {np.mean(recall):.2f} ± {np.std(recall):.2f}\")\n",
    "print(f\"Precision: {np.mean(precision):.2f} ± {np.std(precision):.2f}\")\n",
    "print(f\"F1-score: {np.mean(f1):.2f} ± {np.std(f1):.2f}\")"
   ]
  }
 ],
 "metadata": {
  "kernelspec": {
   "display_name": "venv",
   "language": "python",
   "name": "python3"
  },
  "language_info": {
   "codemirror_mode": {
    "name": "ipython",
    "version": 3
   },
   "file_extension": ".py",
   "mimetype": "text/x-python",
   "name": "python",
   "nbconvert_exporter": "python",
   "pygments_lexer": "ipython3",
   "version": "3.10.7"
  }
 },
 "nbformat": 4,
 "nbformat_minor": 5
}
