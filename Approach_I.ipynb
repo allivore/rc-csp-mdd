{
 "cells": [
  {
   "cell_type": "code",
   "execution_count": 1,
   "id": "24776a62",
   "metadata": {},
   "outputs": [],
   "source": [
    "import numpy as np\n",
    "import matplotlib.pyplot as plt\n",
    "from pyriemann.spatialfilters import CSP\n",
    "from sklearn.discriminant_analysis import LinearDiscriminantAnalysis\n",
    "from sklearn.model_selection import StratifiedShuffleSplit\n",
    "from sklearn.metrics import confusion_matrix"
   ]
  },
  {
   "cell_type": "code",
   "execution_count": 2,
   "id": "99824b36",
   "metadata": {},
   "outputs": [],
   "source": [
    "nsplits = 10\n",
    "nfilters = 1\n",
    "nchannels = 139\n",
    "nsamples = 191\n",
    "nsubs = 163\n",
    "\n",
    "signals = np.zeros([nsubs, nsamples, nchannels])\n",
    "covs = np.zeros([nsubs, nchannels, nchannels])\n",
    "labels = np.zeros(nsubs)\n",
    "for i in range(1,98):\n",
    "    name = 'filtered_data/HC_'+str(i)+'_det.dat'\n",
    "    signal = np.loadtxt(name)\n",
    "    signals[i-1] = signal\n",
    "    covs[i-1] = np.cov(signal.T)\n",
    "    labels[i-1] = 0\n",
    "for i in range(98,164):\n",
    "    name = 'filtered_data/mdd_'+str(i)+'_det.dat'\n",
    "    signal = np.loadtxt(name)\n",
    "    signals[i-1] = signal\n",
    "    covs[i-1] = np.cov(signal.T)\n",
    "    labels[i-1] = 1\n",
    "\n",
    "confusion_matrices = np.zeros([nsplits, 2, 2])\n",
    "split_i = 0\n",
    "model = CSP(nfilter=nfilters, metric='euclid', log=True)\n",
    "crossval = StratifiedShuffleSplit(n_splits=nsplits, test_size=0.2, random_state=0)\n",
    "for train_index, test_index in crossval.split(X=np.zeros(nsubs), y=labels):\n",
    "    model = model.fit(X=covs[train_index],y=labels[train_index])\n",
    "    filtered_signals = model.transform(covs)\n",
    "    lda = LinearDiscriminantAnalysis(solver=\"svd\", store_covariance=True) #svd lsqr eigen\n",
    "    clf = lda.fit(filtered_signals[train_index], labels[train_index])\n",
    "    truths = labels[test_index]\n",
    "    predictions = clf.predict(filtered_signals[test_index])\n",
    "    confusion_matrices[split_i] = confusion_matrix(y_true=truths, y_pred=predictions)\n",
    "    split_i += 1"
   ]
  },
  {
   "cell_type": "code",
   "execution_count": 3,
   "id": "d1580cd2",
   "metadata": {},
   "outputs": [],
   "source": [
    "tn = confusion_matrices[:, 0, 0]\n",
    "fn = confusion_matrices[:, 1, 0]\n",
    "tp = confusion_matrices[:, 1, 1]\n",
    "fp = confusion_matrices[:, 0, 1]\n",
    "accuracy = (tp+tn) / (tp+tn+fp+fn)\n",
    "recall = tp / (tp+fn)\n",
    "precision = tp / (tp+fp)\n",
    "f1 = 2 * (\n",
    "    (precision*recall) / (precision+recall)\n",
    ")"
   ]
  },
  {
   "cell_type": "code",
   "execution_count": 4,
   "id": "f482000b",
   "metadata": {},
   "outputs": [
    {
     "name": "stdout",
     "output_type": "stream",
     "text": [
      "Accuracy: 0.60 ± 0.08\n",
      "Recall: 0.37 ± 0.12\n",
      "Precision: 0.49 ± 0.14\n",
      "F1-score: 0.42 ± 0.13\n"
     ]
    }
   ],
   "source": [
    "print(f\"Accuracy: {np.mean(accuracy):.2f} ± {np.std(accuracy):.2f}\")\n",
    "print(f\"Recall: {np.mean(recall):.2f} ± {np.std(recall):.2f}\")\n",
    "print(f\"Precision: {np.mean(precision):.2f} ± {np.std(precision):.2f}\")\n",
    "print(f\"F1-score: {np.mean(f1):.2f} ± {np.std(f1):.2f}\")"
   ]
  }
 ],
 "metadata": {
  "kernelspec": {
   "display_name": "venv",
   "language": "python",
   "name": "python3"
  },
  "language_info": {
   "codemirror_mode": {
    "name": "ipython",
    "version": 3
   },
   "file_extension": ".py",
   "mimetype": "text/x-python",
   "name": "python",
   "nbconvert_exporter": "python",
   "pygments_lexer": "ipython3",
   "version": "3.10.7"
  }
 },
 "nbformat": 4,
 "nbformat_minor": 5
}
