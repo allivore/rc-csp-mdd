{
 "cells": [
  {
   "cell_type": "code",
   "execution_count": 1,
   "id": "7fd166d6",
   "metadata": {},
   "outputs": [],
   "source": [
    "import os\n",
    "import numpy as np\n",
    "import matplotlib.pyplot as plt\n",
    "from numpy.linalg import LinAlgError\n",
    "from IPython.display import clear_output\n",
    "from tqdm import tqdm\n",
    "from sklearn.discriminant_analysis import LinearDiscriminantAnalysis\n",
    "from sklearn.model_selection import StratifiedShuffleSplit\n",
    "from sklearn.metrics import confusion_matrix\n",
    "from rcnet import rc_activations\n",
    "from mne.decoding import CSP\n",
    "from mne import set_log_level as mne_set_log_level\n",
    "\n",
    "mne_set_log_level('WARNING')\n",
    "rng = np.random.default_rng(0)"
   ]
  },
  {
   "cell_type": "code",
   "execution_count": 2,
   "id": "4241d20d",
   "metadata": {},
   "outputs": [
    {
     "name": "stderr",
     "output_type": "stream",
     "text": [
      "CV: 100%|██████████| 10/10 [00:37<00:00,  3.78s/it]\n"
     ]
    }
   ],
   "source": [
    "nsubs = 163\n",
    "nsamples = 191\n",
    "nchannels = 139\n",
    "\n",
    "dynamics_length = 20\n",
    "approx_reservoir_size = 308\n",
    "worker_id = 0\n",
    "w_in_init = \"classic\"\n",
    "normalization = None\n",
    "nfilters = 10\n",
    "nsplits = 10\n",
    "\n",
    "\n",
    "labels = np.zeros(nsubs)\n",
    "signals = np.zeros([nsubs, nchannels, nsamples])\n",
    "for i in range(1, 98):\n",
    "    name = 'filtered_data/HC_'+str(i)+'_det.dat'\n",
    "    signal = np.loadtxt(name)\n",
    "    signals[i-1] = signal.T\n",
    "    labels[i-1] = 0\n",
    "for i in range(98, 164):\n",
    "    name = f\"data/mdd_{i}_det.dat\"\n",
    "    signal = np.loadtxt(name)[1:]\n",
    "    signal = np.delete(\n",
    "        signal,\n",
    "        np.arange(90, 115+1),\n",
    "        axis=1\n",
    "    )\n",
    "    signals[i-1] = signal.T\n",
    "    labels[i-1] = 1\n",
    "\n",
    "leak = 0.4042626932016279\n",
    "degree = 9\n",
    "radius = 1.157000269488874\n",
    "\n",
    "crossval = StratifiedShuffleSplit(n_splits=nsplits, test_size=0.2, random_state=0)\n",
    "confusion_matrices = np.zeros([nsplits, 2, 2])\n",
    "split_i = 0\n",
    "for train_index, test_index in tqdm(crossval.split(X=np.zeros(nsubs), y=labels), desc=\"CV\", total=nsplits):\n",
    "    activations = np.zeros([nsubs, approx_reservoir_size, nsamples-dynamics_length-1])\n",
    "    csp_fmri = CSP(n_components=14, transform_into=\"csp_space\")\n",
    "    csp_fmri.fit(X=signals[train_index], y=labels[train_index])\n",
    "    signals_filtered = csp_fmri.transform(signals)\n",
    "\n",
    "    for i in range(nsubs):\n",
    "        activation = rc_activations(\n",
    "            signals_filtered[i].T,\n",
    "            dynamics_length,\n",
    "            approx_reservoir_size,\n",
    "            degree,\n",
    "            radius,\n",
    "            worker_id,\n",
    "            w_in_init,\n",
    "            normalization,\n",
    "            leak\n",
    "        )\n",
    "        activations[i-1] = activation.T\n",
    "\n",
    "    csp_activations = CSP(n_components=nfilters, transform_into=\"average_power\", log=True)\n",
    "    csp_activations = csp_activations.fit(X=activations[train_index], y=labels[train_index])\n",
    "    activations_filtered = csp_activations.transform(activations)\n",
    "    lda = LinearDiscriminantAnalysis(solver=\"svd\", store_covariance=True)\n",
    "    clf = lda.fit(activations_filtered[train_index, :nfilters], labels[train_index])\n",
    "    truths = labels[test_index]\n",
    "    predictions = clf.predict(activations_filtered[test_index])\n",
    "    confusion_matrices[split_i] = confusion_matrix(y_true=truths, y_pred=predictions)\n",
    "    split_i += 1"
   ]
  },
  {
   "cell_type": "code",
   "execution_count": 3,
   "id": "01627ab3",
   "metadata": {},
   "outputs": [],
   "source": [
    "tn = confusion_matrices[:, 0, 0]\n",
    "fn = confusion_matrices[:, 1, 0]\n",
    "tp = confusion_matrices[:, 1, 1]\n",
    "fp = confusion_matrices[:, 0, 1]\n",
    "accuracy = (tp+tn) / (tp+tn+fp+fn)\n",
    "recall = tp / (tp+fn)\n",
    "precision = tp / (tp+fp)\n",
    "f1 = 2 * (\n",
    "    (precision*recall) / (precision+recall)\n",
    ")"
   ]
  },
  {
   "cell_type": "code",
   "execution_count": 4,
   "id": "6487b762",
   "metadata": {},
   "outputs": [
    {
     "name": "stdout",
     "output_type": "stream",
     "text": [
      "Accuracy: 0.86 ± 0.06\n",
      "Recall: 0.75 ± 0.11\n",
      "Precision: 0.89 ± 0.09\n",
      "F1-score: 0.81 ± 0.08\n"
     ]
    }
   ],
   "source": [
    "print(f\"Accuracy: {np.mean(accuracy):.2f} ± {np.std(accuracy):.2f}\")\n",
    "print(f\"Recall: {np.mean(recall):.2f} ± {np.std(recall):.2f}\")\n",
    "print(f\"Precision: {np.mean(precision):.2f} ± {np.std(precision):.2f}\")\n",
    "print(f\"F1-score: {np.mean(f1):.2f} ± {np.std(f1):.2f}\")"
   ]
  }
 ],
 "metadata": {
  "kernelspec": {
   "display_name": "venv",
   "language": "python",
   "name": "python3"
  },
  "language_info": {
   "codemirror_mode": {
    "name": "ipython",
    "version": 3
   },
   "file_extension": ".py",
   "mimetype": "text/x-python",
   "name": "python",
   "nbconvert_exporter": "python",
   "pygments_lexer": "ipython3",
   "version": "3.10.7"
  }
 },
 "nbformat": 4,
 "nbformat_minor": 5
}
